{
 "cells": [
  {
   "cell_type": "code",
   "execution_count": 1,
   "id": "db236308",
   "metadata": {},
   "outputs": [],
   "source": [
    "import torchvision\n",
    "import torch\n",
    "import torch.nn as nn\n",
    "import torch.optim as optim\n",
    "from torch.optim.lr_scheduler import StepLR\n",
    "import cv2\n",
    "import numpy as np\n",
    "from loadimages import load_images\n",
    "import random\n",
    "from models import FlowNetS\n",
    "from matplotlib import pyplot as plt"
   ]
  },
  {
   "cell_type": "code",
   "execution_count": 2,
   "id": "2e7d09eb",
   "metadata": {},
   "outputs": [],
   "source": [
    "sequences = load_images(1)\n",
    "random.shuffle(sequences)\n",
    "sequences = sequences[:500]"
   ]
  },
  {
   "cell_type": "code",
   "execution_count": 3,
   "id": "680a0460",
   "metadata": {},
   "outputs": [
    {
     "name": "stdout",
     "output_type": "stream",
     "text": [
      "500\n"
     ]
    }
   ],
   "source": [
    "print(len(sequences))"
   ]
  },
  {
   "cell_type": "code",
   "execution_count": 9,
   "id": "bb8d45d6",
   "metadata": {},
   "outputs": [],
   "source": [
    "number_of_epochs = 50\n",
    "model = FlowNetS()\n",
    "loss_fn = nn.MSELoss()\n",
    "# model.load_state_dict(torch.load('./etc.pt))\n",
    "model.cuda()\n",
    "learning_rate = 1e-1\n",
    "optimizer = optim.SGD(model.parameters(), lr=learning_rate)\n",
    "scheduler = StepLR(optimizer, step_size=1, gamma=0.98)"
   ]
  },
  {
   "cell_type": "code",
   "execution_count": null,
   "id": "4a398bdb",
   "metadata": {},
   "outputs": [
    {
     "name": "stdout",
     "output_type": "stream",
     "text": [
      "started training\n",
      "Training loss: 2663064.848754883 ; Validation loss: 226446.84274291992 ; Epoch: 0\n",
      "Training loss: 579313.8387069702 ; Validation loss: 79877.24462890625 ; Epoch: 1\n",
      "Training loss: 271325.69566345215 ; Validation loss: 52578.01075744629 ; Epoch: 5\n"
     ]
    }
   ],
   "source": [
    "training_losses = []\n",
    "validation_losses = []\n",
    "training_range = int(len(sequences) * 0.8)\n",
    "\n",
    "print('started training')\n",
    "for epoch in range(number_of_epochs):\n",
    "  training_loss = 0.0\n",
    "  validation_loss = 0.0\n",
    "  for data in sequences[:training_range]:\n",
    "    out = model(data[0].unsqueeze(0))\n",
    "    loss = loss_fn(out.squeeze(0), data[1])\n",
    "    optimizer.zero_grad()\n",
    "    loss.backward()\n",
    "    nn.utils.clip_grad_norm_(model.parameters(), 6.0)\n",
    "    training_loss += loss.item()\n",
    "    optimizer.step()\n",
    "\n",
    "  for data in sequences[training_range:]:\n",
    "    out = model(data[0].unsqueeze(0))\n",
    "    loss = loss_fn(out.squeeze(0), data[1])\n",
    "    validation_loss += loss.item()\n",
    "\n",
    "  training_losses.append(training_loss)\n",
    "  validation_losses.append(validation_loss)\n",
    "  torch.save(model.state_dict(), './flownets.pt')\n",
    "  print('Training loss: ' + str(training_loss) + ' ; Validation loss: ' + str(validation_loss) + ' ; Epoch: ' + str(epoch))"
   ]
  },
  {
   "cell_type": "code",
   "execution_count": 1,
   "id": "79408870",
   "metadata": {},
   "outputs": [
    {
     "ename": "NameError",
     "evalue": "name 'plt' is not defined",
     "output_type": "error",
     "traceback": [
      "\u001b[0;31m---------------------------------------------------------------------------\u001b[0m",
      "\u001b[0;31mNameError\u001b[0m                                 Traceback (most recent call last)",
      "\u001b[0;32m<ipython-input-1-149eaade6dda>\u001b[0m in \u001b[0;36m<module>\u001b[0;34m\u001b[0m\n\u001b[0;32m----> 1\u001b[0;31m \u001b[0mplt\u001b[0m\u001b[0;34m.\u001b[0m\u001b[0mplot\u001b[0m\u001b[0;34m(\u001b[0m\u001b[0mtraining_losses\u001b[0m\u001b[0;34m)\u001b[0m\u001b[0;34m\u001b[0m\u001b[0;34m\u001b[0m\u001b[0m\n\u001b[0m\u001b[1;32m      2\u001b[0m \u001b[0mplt\u001b[0m\u001b[0;34m.\u001b[0m\u001b[0mplot\u001b[0m\u001b[0;34m(\u001b[0m\u001b[0mvalidation_losses\u001b[0m\u001b[0;34m)\u001b[0m\u001b[0;34m\u001b[0m\u001b[0;34m\u001b[0m\u001b[0m\n\u001b[1;32m      3\u001b[0m \u001b[0mplt\u001b[0m\u001b[0;34m.\u001b[0m\u001b[0mxlabel\u001b[0m\u001b[0;34m(\u001b[0m\u001b[0;34m'Epoch'\u001b[0m\u001b[0;34m)\u001b[0m\u001b[0;34m\u001b[0m\u001b[0;34m\u001b[0m\u001b[0m\n\u001b[1;32m      4\u001b[0m \u001b[0mplt\u001b[0m\u001b[0;34m.\u001b[0m\u001b[0mylabel\u001b[0m\u001b[0;34m(\u001b[0m\u001b[0;34m'Loss'\u001b[0m\u001b[0;34m)\u001b[0m\u001b[0;34m\u001b[0m\u001b[0;34m\u001b[0m\u001b[0m\n\u001b[1;32m      5\u001b[0m \u001b[0mplt\u001b[0m\u001b[0;34m.\u001b[0m\u001b[0mshow\u001b[0m\u001b[0;34m(\u001b[0m\u001b[0;34m)\u001b[0m\u001b[0;34m\u001b[0m\u001b[0;34m\u001b[0m\u001b[0m\n",
      "\u001b[0;31mNameError\u001b[0m: name 'plt' is not defined"
     ]
    }
   ],
   "source": [
    "plt.plot(training_losses)\n",
    "plt.plot(validation_losses)\n",
    "plt.xlabel('Epoch')\n",
    "plt.ylabel('Loss')\n",
    "plt.show()"
   ]
  },
  {
   "cell_type": "code",
   "execution_count": null,
   "id": "e3d86bc6",
   "metadata": {},
   "outputs": [],
   "source": []
  }
 ],
 "metadata": {
  "environment": {
   "name": "pytorch-gpu.1-8.m68",
   "type": "gcloud",
   "uri": "gcr.io/deeplearning-platform-release/pytorch-gpu.1-8:m68"
  },
  "kernelspec": {
   "display_name": "Python 3",
   "language": "python",
   "name": "python3"
  },
  "language_info": {
   "codemirror_mode": {
    "name": "ipython",
    "version": 3
   },
   "file_extension": ".py",
   "mimetype": "text/x-python",
   "name": "python",
   "nbconvert_exporter": "python",
   "pygments_lexer": "ipython3",
   "version": "3.7.10"
  }
 },
 "nbformat": 4,
 "nbformat_minor": 5
}
